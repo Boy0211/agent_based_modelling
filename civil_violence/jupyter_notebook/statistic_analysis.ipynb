{
 "cells": [
  {
   "cell_type": "code",
   "execution_count": 1,
   "id": "later-asthma",
   "metadata": {},
   "outputs": [],
   "source": [
    "import numpy as np\n",
    "import pandas as pd\n",
    "import scipy\n",
    "import seaborn as sns\n",
    "import matplotlib.pyplot as plt\n",
    "import os"
   ]
  },
  {
   "cell_type": "code",
   "execution_count": 2,
   "id": "flying-keeping",
   "metadata": {
    "scrolled": true
   },
   "outputs": [],
   "source": [
    "def load_plot_archive(path):\n",
    "    \"\"\"\n",
    "    Loads the data from the experiment into RAM\n",
    "    \n",
    "    returns:\n",
    "        - keys df\n",
    "        - df\n",
    "    \"\"\"\n",
    "    file_path = [path]\n",
    "\n",
    "    for path in file_path:\n",
    "        with open(path, 'rb') as f:\n",
    "            data = np.load(f, allow_pickle=True)[()]\n",
    "    \n",
    "    keys = data.keys()\n",
    "    return keys, data"
   ]
  },
  {
   "cell_type": "code",
   "execution_count": 3,
   "id": "forward-example",
   "metadata": {},
   "outputs": [],
   "source": [
    "def create_df_list(keys, df):\n",
    "    \"\"\"\n",
    "    Creates a list of dataframes\n",
    "    \n",
    "    Returns:\n",
    "        - df list\n",
    "    \"\"\"\n",
    "\n",
    "    df_list = []\n",
    "    for key in keys:\n",
    "#         print(df[key])\n",
    "        df_list.append(df[key])\n",
    "    return df_list"
   ]
  },
  {
   "cell_type": "code",
   "execution_count": 4,
   "id": "equipped-valuable",
   "metadata": {},
   "outputs": [],
   "source": [
    "def get_outbreaks(data, threshold=50):\n",
    "    \"\"\"\n",
    "    Calculates the outbreaks from the actives data.\n",
    "\n",
    "    Returns:\n",
    "        - An array with the outbreak peak sizes.\n",
    "        - An array with the outbreak durations.\n",
    "    \"\"\"\n",
    "    outbreak_peaks = []\n",
    "    outbreak_widths = []\n",
    "    counting = False\n",
    "    current_peak = 0\n",
    "    start = 0\n",
    "\n",
    "    for i in range(len(data)):\n",
    "\n",
    "        if data[i] >= threshold and not counting:\n",
    "            counting = True\n",
    "            if current_peak < data[i]:\n",
    "                current_peak = data[i]\n",
    "            start = i\n",
    "\n",
    "        elif data[i] >= threshold and counting:\n",
    "            if current_peak < data[i]:\n",
    "                current_peak = data[i]\n",
    "\n",
    "        elif data[i] < threshold and counting:\n",
    "            outbreak_peaks.append(current_peak)\n",
    "            outbreak_widths.append(i-start)\n",
    "            current_peak = 0\n",
    "            counting = False\n",
    "\n",
    "    # Capture cases where timeline ends in an outbreak.\n",
    "    # Obviously skewers data, but preferable over 0 or infinite outbreaks.\n",
    "    if not outbreak_peaks and counting:\n",
    "        outbreak_peaks.append(current_peak)\n",
    "        outbreak_widths.append(len(data))\n",
    "    elif not outbreak_peaks and not counting:\n",
    "        outbreak_peaks.append(0)\n",
    "        outbreak_widths.append(0)\n",
    "\n",
    "    return outbreak_peaks, outbreak_widths, list(range(len(outbreak_peaks)))"
   ]
  },
  {
   "cell_type": "code",
   "execution_count": 5,
   "id": "lonely-intervention",
   "metadata": {},
   "outputs": [],
   "source": [
    "def create_peakduration_df(name, data):\n",
    "    \"\"\"\n",
    "    Creates a dataframe of the data\n",
    "\n",
    "    Returns:\n",
    "        - Pandas.DataFrame Object \n",
    "        - list of outbreaks per run\n",
    "    \"\"\"\n",
    "\n",
    "    total_peaks = []\n",
    "    total_durations = []\n",
    "    total_outbreak_numbers = []\n",
    "    average_outbreaks = []\n",
    "    \n",
    "    for df in df_list:\n",
    "        peaks , durations, outbreak_numbers = get_outbreaks(df.ACTIVE)\n",
    "        total_peaks += peaks\n",
    "        total_durations += durations\n",
    "        total_outbreak_numbers += outbreak_numbers\n",
    "        average_outbreaks.append(len(durations))\n",
    "\n",
    "    df = pd.DataFrame(data={'PeakHeight': total_peaks, \n",
    "                            'PeakDuration': total_durations, \n",
    "                            'OutbreakNumber': total_outbreak_numbers})\n",
    "    df[\"Network\"] = name\n",
    "    \n",
    "    outbreaks_df = pd.DataFrame(data={'OutbreaksPerRun': average_outbreaks})\n",
    "    outbreaks_df[\"Network\"] = name\n",
    "    \n",
    "    return df, outbreaks_df"
   ]
  },
  {
   "cell_type": "code",
   "execution_count": 6,
   "id": "defined-shanghai",
   "metadata": {},
   "outputs": [],
   "source": [
    "def read_filenames(directory):\n",
    "    \"\"\"\n",
    "    Reads the different filenames of a directory\n",
    "    \n",
    "    returns:\n",
    "        - filenames\n",
    "    \"\"\"    \n",
    "    return [directory + name for name in os.listdir(directory)]"
   ]
  },
  {
   "cell_type": "code",
   "execution_count": 7,
   "id": "heard-corporation",
   "metadata": {},
   "outputs": [],
   "source": [
    "def drop_rows_df(df, columnname, condition):\n",
    "    \"\"\"\n",
    "    Drops rows based on a condition\n",
    "    \n",
    "    returns:\n",
    "        - dataframe\n",
    "    \"\"\"\n",
    "    return df[df[columnname] != condition]"
   ]
  },
  {
   "cell_type": "code",
   "execution_count": 8,
   "id": "friendly-louisville",
   "metadata": {},
   "outputs": [],
   "source": [
    "path = 'data/'\n",
    "filenames = read_filenames(path)\n",
    "names = [file.split('_')[5] for file in filenames]\n",
    "\n",
    "full_df = pd.DataFrame()\n",
    "full_outbreaks_df = pd.DataFrame()\n",
    "\n",
    "for index in range(len(filenames)):\n",
    "    \n",
    "    keys, total_file_df = load_plot_archive(filenames[index])\n",
    "    df_list = create_df_list(keys, total_file_df)\n",
    "    df_plot, df_outbreaks_per_run = create_peakduration_df(names[index], df_list)\n",
    "    full_df = pd.concat([full_df, df_plot])\n",
    "    full_outbreaks_df = pd.concat([full_outbreaks_df, df_outbreaks_per_run])\n",
    "\n",
    "# full_df = drop_rows_df(full_df, 'PeakDuration', 401)\n"
   ]
  },
  {
   "cell_type": "code",
   "execution_count": 9,
   "id": "adjacent-globe",
   "metadata": {},
   "outputs": [
    {
     "ename": "NameError",
     "evalue": "name 'df_without_1' is not defined",
     "output_type": "error",
     "traceback": [
      "\u001b[0;31m---------------------------------------------------------------------------\u001b[0m",
      "\u001b[0;31mNameError\u001b[0m                                 Traceback (most recent call last)",
      "\u001b[0;32m<ipython-input-9-35d73a4f3bcf>\u001b[0m in \u001b[0;36m<module>\u001b[0;34m\u001b[0m\n\u001b[0;32m----> 1\u001b[0;31m \u001b[0mtemp\u001b[0m \u001b[0;34m=\u001b[0m \u001b[0mdrop_rows_df\u001b[0m\u001b[0;34m(\u001b[0m\u001b[0mdf_without_1\u001b[0m\u001b[0;34m,\u001b[0m \u001b[0;34m'Network'\u001b[0m\u001b[0;34m,\u001b[0m \u001b[0;34m'BARABASI-ALBERT-influencer'\u001b[0m\u001b[0;34m)\u001b[0m\u001b[0;34m\u001b[0m\u001b[0;34m\u001b[0m\u001b[0m\n\u001b[0m\u001b[1;32m      2\u001b[0m \u001b[0msns\u001b[0m\u001b[0;34m.\u001b[0m\u001b[0mdisplot\u001b[0m\u001b[0;34m(\u001b[0m\u001b[0mtemp\u001b[0m\u001b[0;34m,\u001b[0m \u001b[0mx\u001b[0m\u001b[0;34m=\u001b[0m\u001b[0;34m\"PeakHeight\"\u001b[0m\u001b[0;34m,\u001b[0m \u001b[0mhue\u001b[0m\u001b[0;34m=\u001b[0m\u001b[0;34m'Network'\u001b[0m\u001b[0;34m,\u001b[0m \u001b[0mfill\u001b[0m\u001b[0;34m=\u001b[0m\u001b[0;32mTrue\u001b[0m\u001b[0;34m,\u001b[0m \u001b[0mkind\u001b[0m\u001b[0;34m=\u001b[0m\u001b[0;34m'kde'\u001b[0m\u001b[0;34m)\u001b[0m\u001b[0;34m\u001b[0m\u001b[0;34m\u001b[0m\u001b[0m\n\u001b[1;32m      3\u001b[0m \u001b[0mplt\u001b[0m\u001b[0;34m.\u001b[0m\u001b[0msavefig\u001b[0m\u001b[0;34m(\u001b[0m\u001b[0;34m'WithoutRemoveInfluencerDensity'\u001b[0m\u001b[0;34m)\u001b[0m\u001b[0;34m\u001b[0m\u001b[0;34m\u001b[0m\u001b[0m\n\u001b[1;32m      4\u001b[0m \u001b[0msns\u001b[0m\u001b[0;34m.\u001b[0m\u001b[0mdisplot\u001b[0m\u001b[0;34m(\u001b[0m\u001b[0mtemp\u001b[0m\u001b[0;34m,\u001b[0m \u001b[0mx\u001b[0m\u001b[0;34m=\u001b[0m\u001b[0;34m'PeakDuration'\u001b[0m\u001b[0;34m,\u001b[0m \u001b[0mhue\u001b[0m\u001b[0;34m=\u001b[0m\u001b[0;34m'Network'\u001b[0m\u001b[0;34m,\u001b[0m \u001b[0mfill\u001b[0m\u001b[0;34m=\u001b[0m\u001b[0;32mTrue\u001b[0m\u001b[0;34m,\u001b[0m \u001b[0mkind\u001b[0m\u001b[0;34m=\u001b[0m\u001b[0;34m'kde'\u001b[0m\u001b[0;34m)\u001b[0m\u001b[0;34m\u001b[0m\u001b[0;34m\u001b[0m\u001b[0m\n",
      "\u001b[0;31mNameError\u001b[0m: name 'df_without_1' is not defined"
     ]
    }
   ],
   "source": [
    "temp = drop_rows_df(df_without_1, 'Network', 'BARABASI-ALBERT-influencer')\n",
    "sns.displot(temp, x=\"PeakHeight\", hue='Network', fill=True, kind='kde')\n",
    "plt.savefig('WithoutRemoveInfluencerDensity')\n",
    "sns.displot(temp, x='PeakDuration', hue='Network', fill=True, kind='kde')"
   ]
  },
  {
   "cell_type": "code",
   "execution_count": 15,
   "id": "fitted-allen",
   "metadata": {},
   "outputs": [
    {
     "data": {
      "text/plain": [
       "<seaborn.axisgrid.FacetGrid at 0x7f27abd27400>"
      ]
     },
     "execution_count": 15,
     "metadata": {},
     "output_type": "execute_result"
    },
    {
     "data": {
      "image/png": "[encoded data removed]",
      "text/plain": [
       "<Figure size 432x288 with 1 Axes>"
      ]
     },
     "metadata": {
      "needs_background": "light"
     },
     "output_type": "display_data"
    },
    {
     "data": {
      "image/png": "[encoded data removed]",
      "text/plain": [
       "<Figure size 540.125x360 with 1 Axes>"
      ]
     },
     "metadata": {
      "needs_background": "light"
     },
     "output_type": "display_data"
    }
   ],
   "source": [
    "full_outbreaks_df\n",
    "full_outbreaks_df = drop_rows_df(full_outbreaks_df, 'OutbreaksPerRun', 1)\n",
    "sns.boxplot(x='Network', y='OutbreaksPerRun', data=full_outbreaks_df)\n",
    "sns.displot(full_outbreaks_df, x=\"OutbreaksPerRun\", hue='Network', fill=True, kind='kde')"
   ]
  },
  {
   "cell_type": "code",
   "execution_count": null,
   "id": "normal-harvey",
   "metadata": {},
   "outputs": [],
   "source": [
    "sns.scatterplot(data=full_df, x=\"PeakDuration\", y=\"PeakHeight\", hue=\"Network\")"
   ]
  },
  {
   "cell_type": "code",
   "execution_count": null,
   "id": "colonial-kidney",
   "metadata": {},
   "outputs": [],
   "source": [
    "sns.boxplot(x='Network', y='PeakDuration', data=full_df)\n",
    "plt.show()\n",
    "sns.boxplot(x='Network', y='PeakHeight', data=full_df)"
   ]
  },
  {
   "cell_type": "code",
   "execution_count": null,
   "id": "published-walter",
   "metadata": {},
   "outputs": [],
   "source": [
    "full_df\n",
    "df_without_1 = drop_rows_df(full_df, 'OutbreakNumber', 0)\n",
    "\n",
    "# full_df = drop_rows_df(full_df, 'PeakDuration', 401)"
   ]
  },
  {
   "cell_type": "code",
   "execution_count": null,
   "id": "assisted-blank",
   "metadata": {},
   "outputs": [],
   "source": [
    "sns.displot(df_without_1, x=\"PeakHeight\", hue='Network', fill=True, kind='kde')\n",
    "plt.savefig('withoud_bimodal.png')"
   ]
  },
  {
   "cell_type": "code",
   "execution_count": null,
   "id": "great-circus",
   "metadata": {},
   "outputs": [],
   "source": [
    "only2df = drop_rows_df(full_df, 'PeakDuration', 401)\n",
    "only2df = drop_rows_df(only2df, 'Network', 'WATTS-STROGATZ')\n",
    "only2df = drop_rows_df(only2df, 'Network', 'ERDOS-RENYI')\n",
    "only2df = drop_rows_df(only2df, 'Network', 'None')\n",
    "only2df = drop_rows_df(only2df, 'OutbreakNumber', 0)\n",
    "\n",
    "sns.boxplot(x='Network', y='PeakHeight', data=only2df)\n",
    "plt.show()\n",
    "sns.boxplot(x='Network', y='PeakDuration', data=only2df)\n",
    "sns.displot(only2df, x=\"PeakHeight\", hue='Network', fill=True, kind='kde')\n",
    "plt.savefig('only2density.png')\n"
   ]
  }
 ],
 "metadata": {
  "kernelspec": {
   "display_name": "Python 3",
   "language": "python",
   "name": "python3"
  },
  "language_info": {
   "codemirror_mode": {
    "name": "ipython",
    "version": 3
   },
   "file_extension": ".py",
   "mimetype": "text/x-python",
   "name": "python",
   "nbconvert_exporter": "python",
   "pygments_lexer": "ipython3",
   "version": "3.8.5"
  }
 },
 "nbformat": 4,
 "nbformat_minor": 5
}
